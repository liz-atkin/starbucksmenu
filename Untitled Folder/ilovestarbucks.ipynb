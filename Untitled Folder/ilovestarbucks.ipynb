{
 "cells": [
  {
   "cell_type": "markdown",
   "id": "325ee14f",
   "metadata": {},
   "source": [
    "Welcome to my presentation about Starbucks. I will assume my audience is non-technical."
   ]
  },
  {
   "cell_type": "code",
   "execution_count": 1,
   "id": "5041c621",
   "metadata": {},
   "outputs": [],
   "source": [
    "import numpy as np\n",
    "import pandas as pd\n",
    "import matplotlib.pyplot as plt\n",
    "import seaborn as sns\n",
    "starbucks = pd.read_csv('starbucks-menu-nutrition-drinks.csv')"
   ]
  },
  {
   "cell_type": "code",
   "execution_count": 2,
   "id": "71a95a46",
   "metadata": {},
   "outputs": [
    {
     "data": {
      "text/html": [
       "<div>\n",
       "<style scoped>\n",
       "    .dataframe tbody tr th:only-of-type {\n",
       "        vertical-align: middle;\n",
       "    }\n",
       "\n",
       "    .dataframe tbody tr th {\n",
       "        vertical-align: top;\n",
       "    }\n",
       "\n",
       "    .dataframe thead th {\n",
       "        text-align: right;\n",
       "    }\n",
       "</style>\n",
       "<table border=\"1\" class=\"dataframe\">\n",
       "  <thead>\n",
       "    <tr style=\"text-align: right;\">\n",
       "      <th></th>\n",
       "      <th>Unnamed: 0</th>\n",
       "      <th>Calories</th>\n",
       "      <th>Fat (g)</th>\n",
       "      <th>Carb. (g)</th>\n",
       "      <th>Fiber (g)</th>\n",
       "      <th>Protein</th>\n",
       "      <th>Sodium</th>\n",
       "    </tr>\n",
       "  </thead>\n",
       "  <tbody>\n",
       "    <tr>\n",
       "      <th>0</th>\n",
       "      <td>Cool Lime Starbucks Refreshers™ Beverage</td>\n",
       "      <td>45</td>\n",
       "      <td>0</td>\n",
       "      <td>11</td>\n",
       "      <td>0</td>\n",
       "      <td>0</td>\n",
       "      <td>10</td>\n",
       "    </tr>\n",
       "    <tr>\n",
       "      <th>1</th>\n",
       "      <td>Ombré Pink Drink</td>\n",
       "      <td>-</td>\n",
       "      <td>-</td>\n",
       "      <td>-</td>\n",
       "      <td>-</td>\n",
       "      <td>-</td>\n",
       "      <td>-</td>\n",
       "    </tr>\n",
       "    <tr>\n",
       "      <th>2</th>\n",
       "      <td>Pink Drink</td>\n",
       "      <td>-</td>\n",
       "      <td>-</td>\n",
       "      <td>-</td>\n",
       "      <td>-</td>\n",
       "      <td>-</td>\n",
       "      <td>-</td>\n",
       "    </tr>\n",
       "    <tr>\n",
       "      <th>3</th>\n",
       "      <td>Strawberry Acai Starbucks Refreshers™ Beverage</td>\n",
       "      <td>80</td>\n",
       "      <td>0</td>\n",
       "      <td>18</td>\n",
       "      <td>1</td>\n",
       "      <td>0</td>\n",
       "      <td>10</td>\n",
       "    </tr>\n",
       "    <tr>\n",
       "      <th>4</th>\n",
       "      <td>Very Berry Hibiscus Starbucks Refreshers™ Beve...</td>\n",
       "      <td>60</td>\n",
       "      <td>0</td>\n",
       "      <td>14</td>\n",
       "      <td>1</td>\n",
       "      <td>0</td>\n",
       "      <td>10</td>\n",
       "    </tr>\n",
       "  </tbody>\n",
       "</table>\n",
       "</div>"
      ],
      "text/plain": [
       "                                          Unnamed: 0 Calories Fat (g)  \\\n",
       "0           Cool Lime Starbucks Refreshers™ Beverage       45       0   \n",
       "1                                   Ombré Pink Drink        -       -   \n",
       "2                                         Pink Drink        -       -   \n",
       "3     Strawberry Acai Starbucks Refreshers™ Beverage       80       0   \n",
       "4  Very Berry Hibiscus Starbucks Refreshers™ Beve...       60       0   \n",
       "\n",
       "  Carb. (g) Fiber (g) Protein Sodium  \n",
       "0        11         0       0     10  \n",
       "1         -         -       -      -  \n",
       "2         -         -       -      -  \n",
       "3        18         1       0     10  \n",
       "4        14         1       0     10  "
      ]
     },
     "execution_count": 2,
     "metadata": {},
     "output_type": "execute_result"
    }
   ],
   "source": [
    "starbucks.head()"
   ]
  },
  {
   "cell_type": "code",
   "execution_count": 3,
   "id": "f8968add",
   "metadata": {},
   "outputs": [
    {
     "data": {
      "text/plain": [
       "Index(['Unnamed: 0', 'Calories', 'Fat (g)', 'Carb. (g)', 'Fiber (g)',\n",
       "       'Protein', 'Sodium'],\n",
       "      dtype='object')"
      ]
     },
     "execution_count": 3,
     "metadata": {},
     "output_type": "execute_result"
    }
   ],
   "source": [
    "starbucks.columns"
   ]
  },
  {
   "cell_type": "code",
   "execution_count": 4,
   "id": "c015032a",
   "metadata": {},
   "outputs": [],
   "source": [
    "starbucks.rename(columns={'Unnamed: 0':'Menu'}, inplace=True )"
   ]
  },
  {
   "cell_type": "code",
   "execution_count": 5,
   "id": "be6c5428",
   "metadata": {},
   "outputs": [
    {
     "name": "stdout",
     "output_type": "stream",
     "text": [
      "<class 'pandas.core.frame.DataFrame'>\n",
      "RangeIndex: 177 entries, 0 to 176\n",
      "Data columns (total 7 columns):\n",
      " #   Column     Non-Null Count  Dtype \n",
      "---  ------     --------------  ----- \n",
      " 0   Menu       177 non-null    object\n",
      " 1   Calories   177 non-null    object\n",
      " 2   Fat (g)    177 non-null    object\n",
      " 3   Carb. (g)  177 non-null    object\n",
      " 4   Fiber (g)  177 non-null    object\n",
      " 5   Protein    177 non-null    object\n",
      " 6   Sodium     177 non-null    object\n",
      "dtypes: object(7)\n",
      "memory usage: 9.8+ KB\n"
     ]
    }
   ],
   "source": [
    "starbucks.info()"
   ]
  },
  {
   "cell_type": "markdown",
   "id": "db472e2e",
   "metadata": {},
   "source": [
    "Everything is a string... we better change them to numbers."
   ]
  },
  {
   "cell_type": "code",
   "execution_count": 6,
   "id": "3592c4fc",
   "metadata": {},
   "outputs": [],
   "source": [
    "starbucks['Calories']=starbucks['Calories'].replace('-', 0).astype('float')\n",
    "starbucks['Fat (g)']=starbucks['Fat (g)'].replace('-', 0).astype('float')\n",
    "starbucks['Carb. (g)']=starbucks['Carb. (g)'].replace('-', 0).astype('float')\n",
    "starbucks['Fiber (g)']=starbucks['Fiber (g)'].replace('-', 0).astype('float')\n",
    "starbucks['Protein']=starbucks['Protein'].replace('-', 0).astype('float')\n",
    "starbucks['Sodium']=starbucks['Sodium'].replace('-', 0).astype('float')"
   ]
  },
  {
   "cell_type": "code",
   "execution_count": null,
   "id": "b4ecf283",
   "metadata": {},
   "outputs": [],
   "source": []
  },
  {
   "cell_type": "code",
   "execution_count": 7,
   "id": "60dea5cf",
   "metadata": {},
   "outputs": [],
   "source": [
    "pd.set_option('display.max_rows', 200)"
   ]
  },
  {
   "cell_type": "code",
   "execution_count": 8,
   "id": "be95843d",
   "metadata": {},
   "outputs": [
    {
     "data": {
      "text/plain": [
       "0               Cool Lime Starbucks Refreshers™ Beverage\n",
       "1                                       Ombré Pink Drink\n",
       "2                                             Pink Drink\n",
       "3         Strawberry Acai Starbucks Refreshers™ Beverage\n",
       "4      Very Berry Hibiscus Starbucks Refreshers™ Beve...\n",
       "5                                           Violet Drink\n",
       "6        Evolution Fresh™ Cold-Pressed Apple Berry Juice\n",
       "7                            Evolution Fresh™ Defense Up\n",
       "8                Evolution Fresh™ Organic Ginger Limeade\n",
       "9                                            Iced Coffee\n",
       "10                                 Iced Coffee with Milk\n",
       "11                Iced Espresso Classics - Vanilla Latte\n",
       "12                  Iced Espresso Classics - Caffe Mocha\n",
       "13            Iced Espresso Classics - Caramel Macchiato\n",
       "14                        Starbucks® Caramel Iced Coffee\n",
       "15                         Starbucks® Iced Coffee + Milk\n",
       "16             Starbucks® Low Calorie Iced Coffee + Milk\n",
       "17                        Starbucks® Vanilla Iced Coffee\n",
       "18                                      Shaken Sweet Tea\n",
       "19                     Tazo® Bottled Berry Blossom White\n",
       "20                             Tazo® Bottled Black Mango\n",
       "21                        Tazo® Bottled Black with Lemon\n",
       "22                            Tazo® Bottled Brambleberry\n",
       "23                             Tazo® Bottled Giant Peach\n",
       "24                            Tazo® Bottled Iced Passion\n",
       "25                            Tazo® Bottled Lemon Ginger\n",
       "26                  Tazo® Bottled Organic Black Lemonade\n",
       "27                  Tazo® Bottled Organic Iced Black Tea\n",
       "28                  Tazo® Bottled Organic Iced Green Tea\n",
       "29                        Tazo® Bottled Plum Pomegranate\n",
       "30                               Tazo® Bottled Tazoberry\n",
       "31                         Tazo® Bottled White Cranberry\n",
       "32                        Teavana® Shaken Iced Black Tea\n",
       "33               Teavana® Shaken Iced Black Tea Lemonade\n",
       "34                        Teavana® Shaken Iced Green Tea\n",
       "35               Teavana® Shaken Iced Green Tea Lemonade\n",
       "36               Teavana® Shaken Iced Passion Tango™ Tea\n",
       "37      Teavana® Shaken Iced Passion Tango™ Tea Lemonade\n",
       "38                  Teavana® Shaken Iced Peach Green Tea\n",
       "39                Iced Espresso Classics - Vanilla Latte\n",
       "40                  Iced Espresso Classics - Caffe Mocha\n",
       "41            Iced Espresso Classics - Caramel Macchiato\n",
       "42     Iced Espresso Classics - Skinny Caramel Macchiato\n",
       "43         Iced Espresso Classics - Skinny Vanilla Latte\n",
       "44             Starbucks Doubleshot® Energy Coffee Drink\n",
       "45            Starbucks Doubleshot® Energy Mexican Mocha\n",
       "46              Starbucks Doubleshot® Energy Mocha Drink\n",
       "47            Starbucks Doubleshot® Energy Vanilla Drink\n",
       "48     Starbucks Doubleshot® Energy White Chocolate D...\n",
       "49     Starbucks Doubleshot® Energy+Cinnamon Dolce Drink\n",
       "50                 Starbucks Doubleshot® Espresso Cubano\n",
       "51                  Starbucks Doubleshot® Espresso Drink\n",
       "52     Starbucks Doubleshot® Espresso Salted Caramel ...\n",
       "53            Starbucks Doubleshot® Light Espresso Drink\n",
       "54                 Starbucks Doubleshot® Protein Caramel\n",
       "55           Starbucks Refreshers™ Raspberry Pomegranate\n",
       "56             Starbucks Refreshers™ Strawberry Lemonade\n",
       "57     Starbucks® Bottled Caramel Frappuccino® Coffee...\n",
       "58     Starbucks® Bottled Coffee Frappuccino® Coffee ...\n",
       "59       Starbucks® Bottled Cold Brew Black, Unsweetened\n",
       "60     Starbucks® Bottled Cold Brew Cocoa and Honey w...\n",
       "61     Starbucks® Bottled Dulce de Leche Frappuccino®...\n",
       "62     Starbucks® Bottled Mocha Frappuccino® Coffee D...\n",
       "63     Starbucks® Bottled Mocha Light Frappuccino® Co...\n",
       "64     Starbucks® Bottled S'mores Frappuccino® Coffee...\n",
       "65     Starbucks® Bottled Vanilla Frappuccino® Coffee...\n",
       "66     Starbucks® Bottled Vanilla Light Frappuccino® ...\n",
       "67                        Starbucks® Caramel Iced Coffee\n",
       "68          Starbucks® Doubleshot Protein Dark Chocolate\n",
       "69                 Starbucks® Doubleshot Protein Vanilla\n",
       "70                         Starbucks® Iced Coffee + Milk\n",
       "71                        Starbucks® Iced Coffee Caramel\n",
       "72                Starbucks® Iced Coffee Light Sweetened\n",
       "73                    Starbucks® Iced Coffee Unsweetened\n",
       "74             Starbucks® Low Calorie Iced Coffee + Milk\n",
       "75     Starbucks® Refreshers™ - Black Cherry Limeade ...\n",
       "76                        Starbucks® Vanilla Iced Coffee\n",
       "77                     Tazo® Bottled Berry Blossom White\n",
       "78                             Tazo® Bottled Black Mango\n",
       "79                        Tazo® Bottled Black with Lemon\n",
       "80                            Tazo® Bottled Brambleberry\n",
       "81                             Tazo® Bottled Giant Peach\n",
       "82                            Tazo® Bottled Iced Passion\n",
       "83                            Tazo® Bottled Lemon Ginger\n",
       "84                  Tazo® Bottled Organic Black Lemonade\n",
       "85                  Tazo® Bottled Organic Iced Black Tea\n",
       "86                  Tazo® Bottled Organic Iced Green Tea\n",
       "87                        Tazo® Bottled Plum Pomegranate\n",
       "88                               Tazo® Bottled Tazoberry\n",
       "89                         Tazo® Bottled White Cranberry\n",
       "90                              Teavana® Mango Black Tea\n",
       "91                    Teavana® Passion Tango® Herbal Tea\n",
       "92                              Teavana® Peach Green Tea\n",
       "93             White Chocolate Mocha Bottled Frappuccino\n",
       "94                                          Blonde Roast\n",
       "95                                           Caffè Misto\n",
       "96                                 Clover® Brewed Coffee\n",
       "97                                       Coffee Traveler\n",
       "98                               Decaf Pike Place® Roast\n",
       "99                                   Featured Dark Roast\n",
       "100                                          Iced Coffee\n",
       "101                                Iced Coffee with Milk\n",
       "102                                  Nariño 70 Cold Brew\n",
       "103                        Nariño 70 Cold Brew with Milk\n",
       "104                                      Nitro Cold Brew\n",
       "105                     Nitro Cold Brew with Sweet Cream\n",
       "106                                    Pike Place® Roast\n",
       "107                            Toasted Coconut Cold Brew\n",
       "108                        Vanilla Sweet Cream Cold Brew\n",
       "109                                        Hot Chocolate\n",
       "110                   Starbucks® Signature Hot Chocolate\n",
       "111                                      Caffè Americano\n",
       "112                                          Caffè Latte\n",
       "113                                          Caffè Mocha\n",
       "114                                           Cappuccino\n",
       "115                                    Caramel Macchiato\n",
       "116                            Cascara Coconutmilk Latte\n",
       "117                                 Cinnamon Dolce Latte\n",
       "118                          Coconutmilk Mocha Macchiato\n",
       "119                                             Espresso\n",
       "120                                   Espresso Con Panna\n",
       "121                                   Espresso Macchiato\n",
       "122                                           Flat White\n",
       "123                                 Iced Caffè Americano\n",
       "124                                     Iced Caffè Latte\n",
       "125                                     Iced Caffè Mocha\n",
       "126                               Iced Caramel Macchiato\n",
       "127                       Iced Cascara Coconutmilk Latte\n",
       "128                            Iced Cinnamon Dolce Latte\n",
       "129                     Iced Coconutmilk Mocha Macchiato\n",
       "130                     Iced Skinny Cinnamon Dolce Latte\n",
       "131                                    Iced Skinny Mocha\n",
       "132                                   Iced Vanilla Latte\n",
       "133                           Iced White Chocolate Mocha\n",
       "134                                      Latte Macchiato\n",
       "135                                      Latte Macchiato\n",
       "136                                         Skinny Mocha\n",
       "137                Starbucks Doubleshot® on Ice Beverage\n",
       "138                                        Vanilla Latte\n",
       "139                                White Chocolate Mocha\n",
       "140            Caffè Vanilla Frappuccino® Blended Coffee\n",
       "141      Caffè Vanilla Light Frappuccino® Blended Coffee\n",
       "142    Caramel Cocoa Cluster Frappuccino® Blended Coffee\n",
       "143                  Caramel Frappuccino® Blended Coffee\n",
       "144            Caramel Light Frappuccino® Blended Coffee\n",
       "145                Chai Crème Frappuccino® Blended Crème\n",
       "146           Cinnamon Dolce Frappuccino® Blended Coffee\n",
       "147     Cinnamon Dolce Light Frappuccino® Blended Coffee\n",
       "148            Cinnamon Roll Frappuccino® Blended Coffee\n",
       "149                   Coffee Frappuccino® Blended Coffee\n",
       "150             Coffee Light Frappuccino® Blended Coffee\n",
       "151             Cupcake Crème Frappuccino® Blended Crème\n",
       "152           Green Tea Crème Frappuccino® Blended Crème\n",
       "153                Java Chip Frappuccino® Blended Coffee\n",
       "154          Java Chip Light Frappuccino® Blended Coffee\n",
       "155           Lemon Bar Crème Frappuccino® Blended Crème\n",
       "156      Midnight Mint Mocha Frappuccino® Blended Coffee\n",
       "157       Midnight Mint Mocha Frappuccino® Blended Crème\n",
       "158                    Mocha Frappuccino® Blended Coffee\n",
       "159              Mocha Light Frappuccino® Blended Coffee\n",
       "160    Oprah Cinnamon Chai Crème Frappuccino® Blended...\n",
       "161     Red Velvet Cake Crème Frappuccino® Blended Crème\n",
       "162                  S'mores Frappuccino® Blended Coffee\n",
       "163                   S'mores Frappuccino® Blended Crème\n",
       "164      Strawberries & Crème Frappuccino® Blended Crème\n",
       "165        The Pokémon™ GO Frappuccino® Blended Beverage\n",
       "166        Vanilla Bean Crème Frappuccino® Blended Crème\n",
       "167    White Chocolate Mocha Frappuccino® Blended Coffee\n",
       "168                                 Cinnamon Dolce Crème\n",
       "169                           Organic Chocolate Milk Box\n",
       "170                                  Steamed Apple Juice\n",
       "171                                        Vanilla Crème\n",
       "172                                   Chocolate Smoothie\n",
       "173                                  Strawberry Smoothie\n",
       "174                                           Ginger Ale\n",
       "175                                            Lemon Ale\n",
       "176                                    Orange Cream Soda\n",
       "Name: Menu, dtype: object"
      ]
     },
     "execution_count": 8,
     "metadata": {},
     "output_type": "execute_result"
    }
   ],
   "source": [
    "starbucks.iloc[:,0]"
   ]
  },
  {
   "cell_type": "markdown",
   "id": "a42a9b47",
   "metadata": {},
   "source": [
    "This is the menu. What are options that are iced?"
   ]
  },
  {
   "cell_type": "code",
   "execution_count": 9,
   "id": "7748f69f",
   "metadata": {},
   "outputs": [
    {
     "name": "stdout",
     "output_type": "stream",
     "text": [
      "                                                  Menu  Calories  Fat (g)  \\\n",
      "9                                          Iced Coffee       0.0      0.0   \n",
      "10                               Iced Coffee with Milk       0.0      0.0   \n",
      "11              Iced Espresso Classics - Vanilla Latte     130.0      2.5   \n",
      "12                Iced Espresso Classics - Caffe Mocha     140.0      2.5   \n",
      "13          Iced Espresso Classics - Caramel Macchiato     130.0      2.5   \n",
      "14                      Starbucks® Caramel Iced Coffee       0.0      0.0   \n",
      "15                       Starbucks® Iced Coffee + Milk       0.0      0.0   \n",
      "16           Starbucks® Low Calorie Iced Coffee + Milk       0.0      0.0   \n",
      "17                      Starbucks® Vanilla Iced Coffee       0.0      0.0   \n",
      "24                          Tazo® Bottled Iced Passion      70.0      0.0   \n",
      "27                Tazo® Bottled Organic Iced Black Tea      60.0      0.0   \n",
      "28                Tazo® Bottled Organic Iced Green Tea     120.0      0.0   \n",
      "32                      Teavana® Shaken Iced Black Tea      30.0      0.0   \n",
      "33             Teavana® Shaken Iced Black Tea Lemonade      70.0      0.0   \n",
      "34                      Teavana® Shaken Iced Green Tea      30.0      0.0   \n",
      "35             Teavana® Shaken Iced Green Tea Lemonade      70.0      0.0   \n",
      "36             Teavana® Shaken Iced Passion Tango™ Tea      30.0      0.0   \n",
      "37    Teavana® Shaken Iced Passion Tango™ Tea Lemonade      90.0      0.0   \n",
      "38                Teavana® Shaken Iced Peach Green Tea      60.0      0.0   \n",
      "39              Iced Espresso Classics - Vanilla Latte     130.0      2.5   \n",
      "40                Iced Espresso Classics - Caffe Mocha     140.0      2.5   \n",
      "41          Iced Espresso Classics - Caramel Macchiato     130.0      2.5   \n",
      "42   Iced Espresso Classics - Skinny Caramel Macchiato       0.0      0.0   \n",
      "43       Iced Espresso Classics - Skinny Vanilla Latte       0.0      0.0   \n",
      "67                      Starbucks® Caramel Iced Coffee       0.0      0.0   \n",
      "70                       Starbucks® Iced Coffee + Milk       0.0      0.0   \n",
      "71                      Starbucks® Iced Coffee Caramel      60.0      0.0   \n",
      "72              Starbucks® Iced Coffee Light Sweetened      50.0      0.0   \n",
      "73                  Starbucks® Iced Coffee Unsweetened      10.0      0.0   \n",
      "74           Starbucks® Low Calorie Iced Coffee + Milk       0.0      0.0   \n",
      "76                      Starbucks® Vanilla Iced Coffee       0.0      0.0   \n",
      "82                          Tazo® Bottled Iced Passion      70.0      0.0   \n",
      "85                Tazo® Bottled Organic Iced Black Tea      60.0      0.0   \n",
      "86                Tazo® Bottled Organic Iced Green Tea     120.0      0.0   \n",
      "100                                        Iced Coffee       5.0      0.0   \n",
      "101                              Iced Coffee with Milk       0.0      0.0   \n",
      "123                               Iced Caffè Americano       0.0      0.0   \n",
      "124                                   Iced Caffè Latte     130.0      4.5   \n",
      "125                                   Iced Caffè Mocha     230.0      6.0   \n",
      "126                             Iced Caramel Macchiato     250.0      7.0   \n",
      "127                     Iced Cascara Coconutmilk Latte       0.0      0.0   \n",
      "128                          Iced Cinnamon Dolce Latte     200.0      4.0   \n",
      "129                   Iced Coconutmilk Mocha Macchiato     260.0      9.0   \n",
      "130                   Iced Skinny Cinnamon Dolce Latte       0.0      0.0   \n",
      "131                                  Iced Skinny Mocha       0.0      0.0   \n",
      "132                                 Iced Vanilla Latte     190.0      4.0   \n",
      "133                         Iced White Chocolate Mocha     300.0      8.0   \n",
      "\n",
      "     Carb. (g)  Fiber (g)  Protein  Sodium  \n",
      "9          0.0        0.0      0.0     0.0  \n",
      "10         0.0        0.0      0.0     0.0  \n",
      "11        21.0        0.0      5.0    65.0  \n",
      "12        23.0        0.0      5.0    90.0  \n",
      "13        21.0        0.0      5.0    65.0  \n",
      "14         0.0        0.0      0.0     0.0  \n",
      "15         0.0        0.0      0.0     0.0  \n",
      "16         0.0        0.0      0.0     0.0  \n",
      "17         0.0        0.0      0.0     0.0  \n",
      "24        17.0        0.0      0.0    10.0  \n",
      "27        15.0        0.0      0.0    10.0  \n",
      "28        31.0        0.0      0.0    10.0  \n",
      "32         8.0        0.0      0.0     5.0  \n",
      "33        17.0        0.0      0.0     0.0  \n",
      "34         8.0        0.0      0.0     5.0  \n",
      "35        17.0        0.0      0.0     5.0  \n",
      "36         8.0        0.0      0.0     5.0  \n",
      "37        24.0        0.0      0.0     0.0  \n",
      "38        15.0        0.0      0.0     0.0  \n",
      "39        21.0        0.0      5.0    65.0  \n",
      "40        23.0        0.0      5.0    90.0  \n",
      "41        21.0        0.0      5.0    65.0  \n",
      "42         0.0        0.0      0.0     0.0  \n",
      "43         0.0        0.0      0.0     0.0  \n",
      "67         0.0        0.0      0.0     0.0  \n",
      "70         0.0        0.0      0.0     0.0  \n",
      "71        13.0        0.0      1.0     0.0  \n",
      "72        11.0        0.0      1.0     0.0  \n",
      "73         2.0        0.0      1.0     0.0  \n",
      "74         0.0        0.0      0.0     0.0  \n",
      "76         0.0        0.0      0.0     0.0  \n",
      "82        17.0        0.0      0.0    10.0  \n",
      "85        15.0        0.0      0.0    10.0  \n",
      "86        31.0        0.0      0.0    10.0  \n",
      "100        0.0        0.0      0.0     5.0  \n",
      "101        0.0        0.0      0.0     0.0  \n",
      "123        0.0        0.0      0.0     0.0  \n",
      "124       13.0        0.0      8.0   115.0  \n",
      "125       36.0        4.0      9.0    90.0  \n",
      "126       37.0        0.0     10.0   150.0  \n",
      "127        0.0        0.0      0.0     0.0  \n",
      "128       34.0        0.0      7.0    95.0  \n",
      "129       34.0        0.0     11.0   180.0  \n",
      "130        0.0        0.0      0.0     0.0  \n",
      "131        0.0        0.0      0.0     0.0  \n",
      "132       30.0        0.0      7.0   100.0  \n",
      "133       47.0        0.0     10.0   190.0  \n"
     ]
    }
   ],
   "source": [
    "iced = starbucks[starbucks['Menu'].str.contains('Iced')]\n",
    "print(iced)"
   ]
  },
  {
   "cell_type": "code",
   "execution_count": 10,
   "id": "74ee5e81",
   "metadata": {},
   "outputs": [
    {
     "data": {
      "text/plain": [
       "71.59574468085107"
      ]
     },
     "execution_count": 10,
     "metadata": {},
     "output_type": "execute_result"
    }
   ],
   "source": [
    "iced['Calories'].mean()"
   ]
  },
  {
   "cell_type": "code",
   "execution_count": 11,
   "id": "731013a2",
   "metadata": {},
   "outputs": [
    {
     "data": {
      "text/plain": [
       "70.2542372881356"
      ]
     },
     "execution_count": 11,
     "metadata": {},
     "output_type": "execute_result"
    }
   ],
   "source": [
    "starbucks['Calories'].mean()"
   ]
  },
  {
   "cell_type": "markdown",
   "id": "dea0d94b",
   "metadata": {},
   "source": [
    "The iced options at Starbucks are about the same calories as the average menu item."
   ]
  },
  {
   "cell_type": "code",
   "execution_count": 12,
   "id": "210b19b0",
   "metadata": {},
   "outputs": [
    {
     "data": {
      "image/png": "[encoded data removed]",
      "text/plain": [
       "<Figure size 432x288 with 1 Axes>"
      ]
     },
     "metadata": {
      "needs_background": "light"
     },
     "output_type": "display_data"
    }
   ],
   "source": [
    "starbucks['Protein'].hist()\n",
    "plt.show()"
   ]
  },
  {
   "cell_type": "code",
   "execution_count": 18,
   "id": "18f69081",
   "metadata": {},
   "outputs": [
    {
     "data": {
      "text/plain": [
       "<AxesSubplot:xlabel='Calories', ylabel='Protein'>"
      ]
     },
     "execution_count": 18,
     "metadata": {},
     "output_type": "execute_result"
    },
    {
     "data": {
      "image/png": "[encoded data removed]",
      "text/plain": [
       "<Figure size 432x288 with 1 Axes>"
      ]
     },
     "metadata": {
      "needs_background": "light"
     },
     "output_type": "display_data"
    }
   ],
   "source": [
    "sns.histplot(starbucks, x='Calories', y='Protein', hue='Fat (g)')"
   ]
  },
  {
   "cell_type": "markdown",
   "id": "ed91c982",
   "metadata": {},
   "source": [
    "Most things at Starbucks have no/little protein, from the first plot, and we can see that things with higher calories tend to have more protein. Something with the most fat has little protein. A scatterplot might be useful."
   ]
  },
  {
   "cell_type": "code",
   "execution_count": 20,
   "id": "d7609c74",
   "metadata": {},
   "outputs": [
    {
     "data": {
      "text/plain": [
       "<AxesSubplot:xlabel='Fat (g)', ylabel='Protein'>"
      ]
     },
     "execution_count": 20,
     "metadata": {},
     "output_type": "execute_result"
    },
    {
     "data": {
      "image/png": "[encoded data removed]",
      "text/plain": [
       "<Figure size 432x288 with 1 Axes>"
      ]
     },
     "metadata": {
      "needs_background": "light"
     },
     "output_type": "display_data"
    }
   ],
   "source": [
    "sns.scatterplot(x=starbucks['Fat (g)'], y=starbucks['Protein'], hue=starbucks['Carb. (g)'], size=starbucks['Calories'])"
   ]
  },
  {
   "cell_type": "markdown",
   "id": "e9783c11",
   "metadata": {},
   "source": [
    "In this plot, the x and y axes are Fat and Protein, size of the dot is Calories, and hue is grams of Carbs. Some correlations I notice are a positive correlation between fat and protein, as well as carbs."
   ]
  },
  {
   "cell_type": "code",
   "execution_count": null,
   "id": "ba02a01c",
   "metadata": {},
   "outputs": [],
   "source": []
  }
 ],
 "metadata": {
  "kernelspec": {
   "display_name": "Python 3 (ipykernel)",
   "language": "python",
   "name": "python3"
  },
  "language_info": {
   "codemirror_mode": {
    "name": "ipython",
    "version": 3
   },
   "file_extension": ".py",
   "mimetype": "text/x-python",
   "name": "python",
   "nbconvert_exporter": "python",
   "pygments_lexer": "ipython3",
   "version": "3.9.7"
  }
 },
 "nbformat": 4,
 "nbformat_minor": 5
}
